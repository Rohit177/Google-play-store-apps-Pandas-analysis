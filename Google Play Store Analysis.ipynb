{
 "cells": [
  {
   "cell_type": "markdown",
   "id": "c6fa5676",
   "metadata": {},
   "source": [
    "# Google Play Store Apps Analysis"
   ]
  },
  {
   "cell_type": "markdown",
   "id": "3aca3217",
   "metadata": {},
   "source": [
    "# "
   ]
  },
  {
   "cell_type": "markdown",
   "id": "f81f593b",
   "metadata": {},
   "source": [
    "### Google Play Store Kaggle Dataset\n",
    "#### Link: https://www.kaggle.com/datasets/lava18/google-play-store-apps \n",
    "        \n",
    "#### Data Dictionary:\n",
    "    1. App: name of the application listed\n",
    "    2. Category: there are 34 distinct category of application\n",
    "    3. Rating: from 0 to 5.0\n",
    "    4. Reviews: counts of number of user reviewed\n",
    "    5. Size: size of application\n",
    "    6. Installs: number of installs and downlods \n",
    "    7. Content Rating: 3 distinct content rating category\n",
    "    8. Genre: 120 genres of applications\n",
    "    9. Last Updated: lastest last updated date\n",
    "    10. Current Ver: current version of application\n",
    "    11. Android ver: application worked on mention android version"
   ]
  },
  {
   "cell_type": "markdown",
   "id": "7873608d",
   "metadata": {},
   "source": [
    "#### import libraries"
   ]
  },
  {
   "cell_type": "code",
   "execution_count": 3,
   "id": "8230a9ae",
   "metadata": {},
   "outputs": [],
   "source": [
    "import pandas as pd"
   ]
  },
  {
   "cell_type": "code",
   "execution_count": 144,
   "id": "f99a1ab9",
   "metadata": {},
   "outputs": [],
   "source": [
    "data = pd.read_csv('Dataset/googleplaystore.csv')"
   ]
  },
  {
   "cell_type": "code",
   "execution_count": 6,
   "id": "5ca2a4ec",
   "metadata": {},
   "outputs": [
    {
     "data": {
      "text/html": [
       "<div>\n",
       "<style scoped>\n",
       "    .dataframe tbody tr th:only-of-type {\n",
       "        vertical-align: middle;\n",
       "    }\n",
       "\n",
       "    .dataframe tbody tr th {\n",
       "        vertical-align: top;\n",
       "    }\n",
       "\n",
       "    .dataframe thead th {\n",
       "        text-align: right;\n",
       "    }\n",
       "</style>\n",
       "<table border=\"1\" class=\"dataframe\">\n",
       "  <thead>\n",
       "    <tr style=\"text-align: right;\">\n",
       "      <th></th>\n",
       "      <th>App</th>\n",
       "      <th>Category</th>\n",
       "      <th>Rating</th>\n",
       "      <th>Reviews</th>\n",
       "      <th>Size</th>\n",
       "      <th>Installs</th>\n",
       "      <th>Type</th>\n",
       "      <th>Price</th>\n",
       "      <th>Content Rating</th>\n",
       "      <th>Genres</th>\n",
       "      <th>Last Updated</th>\n",
       "      <th>Current Ver</th>\n",
       "      <th>Android Ver</th>\n",
       "    </tr>\n",
       "  </thead>\n",
       "  <tbody>\n",
       "    <tr>\n",
       "      <th>0</th>\n",
       "      <td>Photo Editor &amp; Candy Camera &amp; Grid &amp; ScrapBook</td>\n",
       "      <td>ART_AND_DESIGN</td>\n",
       "      <td>4.1</td>\n",
       "      <td>159</td>\n",
       "      <td>19M</td>\n",
       "      <td>10,000+</td>\n",
       "      <td>Free</td>\n",
       "      <td>0</td>\n",
       "      <td>Everyone</td>\n",
       "      <td>Art &amp; Design</td>\n",
       "      <td>January 7, 2018</td>\n",
       "      <td>1.0.0</td>\n",
       "      <td>4.0.3 and up</td>\n",
       "    </tr>\n",
       "    <tr>\n",
       "      <th>1</th>\n",
       "      <td>Coloring book moana</td>\n",
       "      <td>ART_AND_DESIGN</td>\n",
       "      <td>3.9</td>\n",
       "      <td>967</td>\n",
       "      <td>14M</td>\n",
       "      <td>500,000+</td>\n",
       "      <td>Free</td>\n",
       "      <td>0</td>\n",
       "      <td>Everyone</td>\n",
       "      <td>Art &amp; Design;Pretend Play</td>\n",
       "      <td>January 15, 2018</td>\n",
       "      <td>2.0.0</td>\n",
       "      <td>4.0.3 and up</td>\n",
       "    </tr>\n",
       "    <tr>\n",
       "      <th>2</th>\n",
       "      <td>U Launcher Lite – FREE Live Cool Themes, Hide ...</td>\n",
       "      <td>ART_AND_DESIGN</td>\n",
       "      <td>4.7</td>\n",
       "      <td>87510</td>\n",
       "      <td>8.7M</td>\n",
       "      <td>5,000,000+</td>\n",
       "      <td>Free</td>\n",
       "      <td>0</td>\n",
       "      <td>Everyone</td>\n",
       "      <td>Art &amp; Design</td>\n",
       "      <td>August 1, 2018</td>\n",
       "      <td>1.2.4</td>\n",
       "      <td>4.0.3 and up</td>\n",
       "    </tr>\n",
       "  </tbody>\n",
       "</table>\n",
       "</div>"
      ],
      "text/plain": [
       "                                                 App        Category  Rating  \\\n",
       "0     Photo Editor & Candy Camera & Grid & ScrapBook  ART_AND_DESIGN     4.1   \n",
       "1                                Coloring book moana  ART_AND_DESIGN     3.9   \n",
       "2  U Launcher Lite – FREE Live Cool Themes, Hide ...  ART_AND_DESIGN     4.7   \n",
       "\n",
       "  Reviews  Size    Installs  Type Price Content Rating  \\\n",
       "0     159   19M     10,000+  Free     0       Everyone   \n",
       "1     967   14M    500,000+  Free     0       Everyone   \n",
       "2   87510  8.7M  5,000,000+  Free     0       Everyone   \n",
       "\n",
       "                      Genres      Last Updated Current Ver   Android Ver  \n",
       "0               Art & Design   January 7, 2018       1.0.0  4.0.3 and up  \n",
       "1  Art & Design;Pretend Play  January 15, 2018       2.0.0  4.0.3 and up  \n",
       "2               Art & Design    August 1, 2018       1.2.4  4.0.3 and up  "
      ]
     },
     "execution_count": 6,
     "metadata": {},
     "output_type": "execute_result"
    }
   ],
   "source": [
    "data.head(3)"
   ]
  },
  {
   "cell_type": "code",
   "execution_count": 15,
   "id": "f38e9b23",
   "metadata": {
    "scrolled": true
   },
   "outputs": [
    {
     "name": "stdout",
     "output_type": "stream",
     "text": [
      "<class 'pandas.core.frame.DataFrame'>\n",
      "RangeIndex: 10841 entries, 0 to 10840\n",
      "Data columns (total 13 columns):\n",
      " #   Column          Non-Null Count  Dtype  \n",
      "---  ------          --------------  -----  \n",
      " 0   App             10841 non-null  object \n",
      " 1   Category        10841 non-null  object \n",
      " 2   Rating          9367 non-null   float64\n",
      " 3   Reviews         10841 non-null  object \n",
      " 4   Size            10841 non-null  object \n",
      " 5   Installs        10841 non-null  object \n",
      " 6   Type            10840 non-null  object \n",
      " 7   Price           10841 non-null  object \n",
      " 8   Content Rating  10840 non-null  object \n",
      " 9   Genres          10841 non-null  object \n",
      " 10  Last Updated    10841 non-null  object \n",
      " 11  Current Ver     10833 non-null  object \n",
      " 12  Android Ver     10838 non-null  object \n",
      "dtypes: float64(1), object(12)\n",
      "memory usage: 1.1+ MB\n"
     ]
    }
   ],
   "source": [
    "data.info()"
   ]
  },
  {
   "cell_type": "code",
   "execution_count": 44,
   "id": "01c3cbfa",
   "metadata": {},
   "outputs": [
    {
     "data": {
      "text/plain": [
       "App               9660\n",
       "Category            34\n",
       "Rating              40\n",
       "Reviews           6002\n",
       "Size               462\n",
       "Installs            22\n",
       "Type                 3\n",
       "Price               93\n",
       "Content Rating       6\n",
       "Genres             120\n",
       "Last Updated      1378\n",
       "Current Ver       2832\n",
       "Android Ver         33\n",
       "dtype: int64"
      ]
     },
     "execution_count": 44,
     "metadata": {},
     "output_type": "execute_result"
    }
   ],
   "source": [
    "data.nunique()"
   ]
  },
  {
   "cell_type": "code",
   "execution_count": 52,
   "id": "be032b92",
   "metadata": {},
   "outputs": [
    {
     "data": {
      "text/plain": [
       "34"
      ]
     },
     "execution_count": 52,
     "metadata": {},
     "output_type": "execute_result"
    }
   ],
   "source": [
    "# to analyse kind of data in Category column\n",
    "data['Category'].value_counts()\n",
    "data['Category'].unique()\n",
    "data['Category'].nunique()"
   ]
  },
  {
   "cell_type": "markdown",
   "id": "7492ea86",
   "metadata": {},
   "source": [
    "# "
   ]
  },
  {
   "cell_type": "markdown",
   "id": "ed0dcdba",
   "metadata": {},
   "source": [
    "### Task: Convert Reviews to Int dtype | Convert Category, Type and Content Rating column into Category dtype | Price into Float dtype"
   ]
  },
  {
   "cell_type": "markdown",
   "id": "c6df43c9",
   "metadata": {},
   "source": [
    "##### Replace Million string to int in reviews columns"
   ]
  },
  {
   "cell_type": "code",
   "execution_count": null,
   "id": "0624092f",
   "metadata": {},
   "outputs": [],
   "source": [
    "# data[data['Reviews']=='3.0M'] \n",
    "data['Reviews'] = data['Reviews'].replace('3.0M', '3000000')"
   ]
  },
  {
   "cell_type": "code",
   "execution_count": 25,
   "id": "cc0da6bd",
   "metadata": {},
   "outputs": [],
   "source": [
    "data['Reviews'] = data['Reviews'].astype('int32')"
   ]
  },
  {
   "cell_type": "code",
   "execution_count": 45,
   "id": "16e36edd",
   "metadata": {},
   "outputs": [],
   "source": [
    "data['Category'] = data['Category'].astype('category')"
   ]
  },
  {
   "cell_type": "code",
   "execution_count": 47,
   "id": "f30cdd91",
   "metadata": {},
   "outputs": [],
   "source": [
    "data['Type'] = data['Type'].astype('category')"
   ]
  },
  {
   "cell_type": "code",
   "execution_count": 49,
   "id": "91951773",
   "metadata": {},
   "outputs": [],
   "source": [
    "data['Content Rating'] = data['Content Rating'].astype('category')"
   ]
  },
  {
   "cell_type": "markdown",
   "id": "dc3ca2bc",
   "metadata": {},
   "source": [
    "#### Replace '$' with empty into the price column"
   ]
  },
  {
   "cell_type": "code",
   "execution_count": 161,
   "id": "2a668c74",
   "metadata": {
    "scrolled": false
   },
   "outputs": [],
   "source": [
    "data[\"Price\"] = data[\"Price\"].str.replace('$','')"
   ]
  },
  {
   "cell_type": "markdown",
   "id": "3893d6d7",
   "metadata": {},
   "source": [
    "#### Replace price 'Everyone' with 0.0"
   ]
  },
  {
   "cell_type": "code",
   "execution_count": 70,
   "id": "6a08c029",
   "metadata": {},
   "outputs": [],
   "source": [
    "data[\"Price\"] = data[\"Price\"].replace(\"Everyone\", '0')"
   ]
  },
  {
   "cell_type": "code",
   "execution_count": 73,
   "id": "3ad1f1c0",
   "metadata": {},
   "outputs": [],
   "source": [
    "data[\"Price\"] = data[\"Price\"].astype('float')"
   ]
  },
  {
   "cell_type": "markdown",
   "id": "cfdea8e7",
   "metadata": {},
   "source": [
    "#### Replace last updated date of '1.0.19' to Feb 11, 2018"
   ]
  },
  {
   "cell_type": "code",
   "execution_count": 82,
   "id": "a7dd7df1",
   "metadata": {},
   "outputs": [],
   "source": [
    "data[\"Last Updated\"] = data[\"Last Updated\"].replace('1.0.19', 'February 11, 2018')"
   ]
  },
  {
   "cell_type": "code",
   "execution_count": 85,
   "id": "4640a29b",
   "metadata": {},
   "outputs": [],
   "source": [
    "# data[\"Last Updated\"].astype('Datetime')\n",
    "data[\"Last Updated\"] = pd.to_datetime(data['Last Updated'])"
   ]
  },
  {
   "cell_type": "code",
   "execution_count": 86,
   "id": "8c83dac9",
   "metadata": {},
   "outputs": [
    {
     "name": "stdout",
     "output_type": "stream",
     "text": [
      "<class 'pandas.core.frame.DataFrame'>\n",
      "RangeIndex: 10841 entries, 0 to 10840\n",
      "Data columns (total 13 columns):\n",
      " #   Column          Non-Null Count  Dtype         \n",
      "---  ------          --------------  -----         \n",
      " 0   App             10841 non-null  object        \n",
      " 1   Category        10841 non-null  category      \n",
      " 2   Rating          9367 non-null   float64       \n",
      " 3   Reviews         10841 non-null  int32         \n",
      " 4   Size            10841 non-null  object        \n",
      " 5   Installs        10841 non-null  object        \n",
      " 6   Type            10840 non-null  category      \n",
      " 7   Price           10841 non-null  float64       \n",
      " 8   Content Rating  10840 non-null  category      \n",
      " 9   Genres          10841 non-null  object        \n",
      " 10  Last Updated    10841 non-null  datetime64[ns]\n",
      " 11  Current Ver     10833 non-null  object        \n",
      " 12  Android Ver     10838 non-null  object        \n",
      "dtypes: category(3), datetime64[ns](1), float64(2), int32(1), object(6)\n",
      "memory usage: 838.1+ KB\n"
     ]
    }
   ],
   "source": [
    "data.info()"
   ]
  },
  {
   "cell_type": "markdown",
   "id": "b6776233",
   "metadata": {},
   "source": [
    "#### Add launch_month and Year column by extracting from Last update date column"
   ]
  },
  {
   "cell_type": "code",
   "execution_count": 96,
   "id": "5a664332",
   "metadata": {},
   "outputs": [],
   "source": [
    "# Updated year\n",
    "data['Release_year'] = data['Last Updated'].dt.year"
   ]
  },
  {
   "cell_type": "code",
   "execution_count": 97,
   "id": "4b6aebd7",
   "metadata": {},
   "outputs": [],
   "source": [
    "data['launch_month'] = data['Last Updated'].dt.month"
   ]
  },
  {
   "cell_type": "code",
   "execution_count": 98,
   "id": "2df18a45",
   "metadata": {},
   "outputs": [
    {
     "data": {
      "text/plain": [
       "0        1\n",
       "1        1\n",
       "2        8\n",
       "3        6\n",
       "4        6\n",
       "        ..\n",
       "10836    7\n",
       "10837    7\n",
       "10838    1\n",
       "10839    1\n",
       "10840    7\n",
       "Name: launch_month, Length: 10841, dtype: int64"
      ]
     },
     "execution_count": 98,
     "metadata": {},
     "output_type": "execute_result"
    }
   ],
   "source": [
    "data['launch_month']"
   ]
  },
  {
   "cell_type": "markdown",
   "id": "695b413f",
   "metadata": {},
   "source": [
    "# "
   ]
  },
  {
   "cell_type": "markdown",
   "id": "a7ec641e",
   "metadata": {},
   "source": [
    "# Data Exploration"
   ]
  },
  {
   "cell_type": "markdown",
   "id": "e08cafb7",
   "metadata": {},
   "source": [
    "#### Q. 1: What was the month of most application updates released"
   ]
  },
  {
   "cell_type": "code",
   "execution_count": 110,
   "id": "3147ee09",
   "metadata": {},
   "outputs": [
    {
     "data": {
      "text/plain": [
       "launch_month\n",
       "1      491\n",
       "2      534\n",
       "3      667\n",
       "4      616\n",
       "5      978\n",
       "6     1273\n",
       "7     3163\n",
       "8     1594\n",
       "9      314\n",
       "10     398\n",
       "11     387\n",
       "12     426\n",
       "Name: App, dtype: int64"
      ]
     },
     "execution_count": 110,
     "metadata": {},
     "output_type": "execute_result"
    }
   ],
   "source": [
    "data.groupby(['launch_month']).count()['App']"
   ]
  },
  {
   "cell_type": "code",
   "execution_count": 113,
   "id": "8ef3ee55",
   "metadata": {},
   "outputs": [
    {
     "name": "stdout",
     "output_type": "stream",
     "text": [
      "range(1, 13)\n"
     ]
    },
    {
     "data": {
      "image/png": "[encoded data removed]",
      "text/plain": [
       "<Figure size 432x288 with 1 Axes>"
      ]
     },
     "metadata": {
      "needs_background": "light"
     },
     "output_type": "display_data"
    }
   ],
   "source": [
    "import matplotlib.pyplot as plt\n",
    "\n",
    "months = range(1,13)\n",
    "print(months)\n",
    "\n",
    "plt.bar(months, data.groupby(['launch_month']).count()['App'])\n",
    "plt.xticks(months)\n",
    "plt.ylabel('Counts')\n",
    "plt.xlabel('Month number')\n",
    "plt.show()\n"
   ]
  },
  {
   "cell_type": "markdown",
   "id": "0405bd03",
   "metadata": {},
   "source": [
    "#### Q. 2: What are the most prefered category of application"
   ]
  },
  {
   "cell_type": "code",
   "execution_count": 130,
   "id": "e385ecda",
   "metadata": {},
   "outputs": [
    {
     "data": {
      "text/plain": [
       "Category\n",
       "FAMILY                 1972\n",
       "GAME                   1144\n",
       "TOOLS                   843\n",
       "MEDICAL                 463\n",
       "BUSINESS                460\n",
       "PRODUCTIVITY            424\n",
       "PERSONALIZATION         392\n",
       "COMMUNICATION           387\n",
       "SPORTS                  384\n",
       "LIFESTYLE               382\n",
       "FINANCE                 366\n",
       "HEALTH_AND_FITNESS      341\n",
       "PHOTOGRAPHY             335\n",
       "SOCIAL                  295\n",
       "NEWS_AND_MAGAZINES      283\n",
       "SHOPPING                260\n",
       "TRAVEL_AND_LOCAL        258\n",
       "DATING                  234\n",
       "BOOKS_AND_REFERENCE     231\n",
       "VIDEO_PLAYERS           175\n",
       "EDUCATION               156\n",
       "ENTERTAINMENT           149\n",
       "MAPS_AND_NAVIGATION     137\n",
       "FOOD_AND_DRINK          127\n",
       "HOUSE_AND_HOME           88\n",
       "LIBRARIES_AND_DEMO       85\n",
       "AUTO_AND_VEHICLES        85\n",
       "WEATHER                  82\n",
       "ART_AND_DESIGN           65\n",
       "EVENTS                   64\n",
       "PARENTING                60\n",
       "COMICS                   60\n",
       "BEAUTY                   53\n",
       "1.9                       1\n",
       "Name: App, dtype: int64"
      ]
     },
     "execution_count": 130,
     "metadata": {},
     "output_type": "execute_result"
    }
   ],
   "source": [
    "data[\"Category\"].value_counts()\n",
    "data.groupby(['Category']).count()['App'].sort_values(ascending=False)"
   ]
  },
  {
   "cell_type": "code",
   "execution_count": 126,
   "id": "bb28d1a8",
   "metadata": {},
   "outputs": [
    {
     "data": {
      "image/png": "[encoded data removed]",
      "text/plain": [
       "<Figure size 432x288 with 1 Axes>"
      ]
     },
     "metadata": {
      "needs_background": "light"
     },
     "output_type": "display_data"
    }
   ],
   "source": [
    "keys = [category for category, df in data.groupby(['Category'])]\n",
    "\n",
    "plt.bar(keys, data.groupby(['Category']).count()['App'])\n",
    "plt.xticks(months)\n",
    "plt.ylabel('Counts')\n",
    "plt.xlabel('Month number')\n",
    "plt.xticks(keys, rotation='vertical', size=8)\n",
    "plt.show()\n"
   ]
  },
  {
   "cell_type": "markdown",
   "id": "408f32f6",
   "metadata": {},
   "source": [
    "#### Q. 3: What application should we recommend to maximize likelihood of user feed"
   ]
  },
  {
   "cell_type": "code",
   "execution_count": 134,
   "id": "775c8a90",
   "metadata": {},
   "outputs": [
    {
     "data": {
      "text/html": [
       "<div>\n",
       "<style scoped>\n",
       "    .dataframe tbody tr th:only-of-type {\n",
       "        vertical-align: middle;\n",
       "    }\n",
       "\n",
       "    .dataframe tbody tr th {\n",
       "        vertical-align: top;\n",
       "    }\n",
       "\n",
       "    .dataframe thead th {\n",
       "        text-align: right;\n",
       "    }\n",
       "</style>\n",
       "<table border=\"1\" class=\"dataframe\">\n",
       "  <thead>\n",
       "    <tr style=\"text-align: right;\">\n",
       "      <th></th>\n",
       "      <th>Rating</th>\n",
       "      <th>Reviews</th>\n",
       "      <th>Price</th>\n",
       "      <th>Release_year</th>\n",
       "      <th>launch_month</th>\n",
       "    </tr>\n",
       "    <tr>\n",
       "      <th>Category</th>\n",
       "      <th></th>\n",
       "      <th></th>\n",
       "      <th></th>\n",
       "      <th></th>\n",
       "      <th></th>\n",
       "    </tr>\n",
       "  </thead>\n",
       "  <tbody>\n",
       "    <tr>\n",
       "      <th>1.9</th>\n",
       "      <td>19.0</td>\n",
       "      <td>3000000</td>\n",
       "      <td>0.00</td>\n",
       "      <td>2018</td>\n",
       "      <td>2</td>\n",
       "    </tr>\n",
       "    <tr>\n",
       "      <th>ART_AND_DESIGN</th>\n",
       "      <td>270.2</td>\n",
       "      <td>1714440</td>\n",
       "      <td>5.97</td>\n",
       "      <td>131158</td>\n",
       "      <td>386</td>\n",
       "    </tr>\n",
       "    <tr>\n",
       "      <th>AUTO_AND_VEHICLES</th>\n",
       "      <td>305.9</td>\n",
       "      <td>1163666</td>\n",
       "      <td>13.47</td>\n",
       "      <td>171513</td>\n",
       "      <td>552</td>\n",
       "    </tr>\n",
       "    <tr>\n",
       "      <th>BEAUTY</th>\n",
       "      <td>179.7</td>\n",
       "      <td>396240</td>\n",
       "      <td>0.00</td>\n",
       "      <td>106940</td>\n",
       "      <td>322</td>\n",
       "    </tr>\n",
       "    <tr>\n",
       "      <th>BOOKS_AND_REFERENCE</th>\n",
       "      <td>773.6</td>\n",
       "      <td>21959069</td>\n",
       "      <td>119.77</td>\n",
       "      <td>465926</td>\n",
       "      <td>1455</td>\n",
       "    </tr>\n",
       "    <tr>\n",
       "      <th>BUSINESS</th>\n",
       "      <td>1248.8</td>\n",
       "      <td>13954552</td>\n",
       "      <td>185.27</td>\n",
       "      <td>927987</td>\n",
       "      <td>2859</td>\n",
       "    </tr>\n",
       "    <tr>\n",
       "      <th>COMICS</th>\n",
       "      <td>241.0</td>\n",
       "      <td>3383276</td>\n",
       "      <td>0.00</td>\n",
       "      <td>121067</td>\n",
       "      <td>406</td>\n",
       "    </tr>\n",
       "    <tr>\n",
       "      <th>COMMUNICATION</th>\n",
       "      <td>1364.0</td>\n",
       "      <td>815462260</td>\n",
       "      <td>83.14</td>\n",
       "      <td>780743</td>\n",
       "      <td>2537</td>\n",
       "    </tr>\n",
       "    <tr>\n",
       "      <th>DATING</th>\n",
       "      <td>774.3</td>\n",
       "      <td>7291278</td>\n",
       "      <td>31.43</td>\n",
       "      <td>472187</td>\n",
       "      <td>1593</td>\n",
       "    </tr>\n",
       "    <tr>\n",
       "      <th>EDUCATION</th>\n",
       "      <td>680.3</td>\n",
       "      <td>39595786</td>\n",
       "      <td>17.96</td>\n",
       "      <td>314730</td>\n",
       "      <td>1117</td>\n",
       "    </tr>\n",
       "    <tr>\n",
       "      <th>ENTERTAINMENT</th>\n",
       "      <td>614.8</td>\n",
       "      <td>59178154</td>\n",
       "      <td>7.98</td>\n",
       "      <td>300667</td>\n",
       "      <td>964</td>\n",
       "    </tr>\n",
       "    <tr>\n",
       "      <th>EVENTS</th>\n",
       "      <td>199.6</td>\n",
       "      <td>161018</td>\n",
       "      <td>109.99</td>\n",
       "      <td>129132</td>\n",
       "      <td>472</td>\n",
       "    </tr>\n",
       "    <tr>\n",
       "      <th>FAMILY</th>\n",
       "      <td>7323.9</td>\n",
       "      <td>410226330</td>\n",
       "      <td>2434.78</td>\n",
       "      <td>3977995</td>\n",
       "      <td>12414</td>\n",
       "    </tr>\n",
       "    <tr>\n",
       "      <th>FINANCE</th>\n",
       "      <td>1334.6</td>\n",
       "      <td>17550728</td>\n",
       "      <td>2900.83</td>\n",
       "      <td>738476</td>\n",
       "      <td>2262</td>\n",
       "    </tr>\n",
       "    <tr>\n",
       "      <th>FOOD_AND_DRINK</th>\n",
       "      <td>454.2</td>\n",
       "      <td>8883330</td>\n",
       "      <td>8.48</td>\n",
       "      <td>256268</td>\n",
       "      <td>816</td>\n",
       "    </tr>\n",
       "    <tr>\n",
       "      <th>GAME</th>\n",
       "      <td>4702.1</td>\n",
       "      <td>1585422349</td>\n",
       "      <td>287.30</td>\n",
       "      <td>2307826</td>\n",
       "      <td>7506</td>\n",
       "    </tr>\n",
       "    <tr>\n",
       "      <th>HEALTH_AND_FITNESS</th>\n",
       "      <td>1270.3</td>\n",
       "      <td>37893743</td>\n",
       "      <td>67.34</td>\n",
       "      <td>688014</td>\n",
       "      <td>2223</td>\n",
       "    </tr>\n",
       "    <tr>\n",
       "      <th>HOUSE_AND_HOME</th>\n",
       "      <td>319.0</td>\n",
       "      <td>3976385</td>\n",
       "      <td>0.00</td>\n",
       "      <td>177544</td>\n",
       "      <td>584</td>\n",
       "    </tr>\n",
       "    <tr>\n",
       "      <th>LIBRARIES_AND_DEMO</th>\n",
       "      <td>271.6</td>\n",
       "      <td>1037118</td>\n",
       "      <td>0.99</td>\n",
       "      <td>171448</td>\n",
       "      <td>405</td>\n",
       "    </tr>\n",
       "    <tr>\n",
       "      <th>LIFESTYLE</th>\n",
       "      <td>1285.8</td>\n",
       "      <td>12882784</td>\n",
       "      <td>2360.87</td>\n",
       "      <td>770602</td>\n",
       "      <td>2403</td>\n",
       "    </tr>\n",
       "    <tr>\n",
       "      <th>MAPS_AND_NAVIGATION</th>\n",
       "      <td>502.4</td>\n",
       "      <td>30659254</td>\n",
       "      <td>26.95</td>\n",
       "      <td>276407</td>\n",
       "      <td>918</td>\n",
       "    </tr>\n",
       "    <tr>\n",
       "      <th>MEDICAL</th>\n",
       "      <td>1466.2</td>\n",
       "      <td>1585975</td>\n",
       "      <td>1439.96</td>\n",
       "      <td>934031</td>\n",
       "      <td>2927</td>\n",
       "    </tr>\n",
       "    <tr>\n",
       "      <th>NEWS_AND_MAGAZINES</th>\n",
       "      <td>962.8</td>\n",
       "      <td>54400863</td>\n",
       "      <td>3.98</td>\n",
       "      <td>570992</td>\n",
       "      <td>1809</td>\n",
       "    </tr>\n",
       "    <tr>\n",
       "      <th>PARENTING</th>\n",
       "      <td>215.0</td>\n",
       "      <td>958331</td>\n",
       "      <td>9.58</td>\n",
       "      <td>121069</td>\n",
       "      <td>368</td>\n",
       "    </tr>\n",
       "    <tr>\n",
       "      <th>PERSONALIZATION</th>\n",
       "      <td>1361.5</td>\n",
       "      <td>89346140</td>\n",
       "      <td>153.96</td>\n",
       "      <td>790656</td>\n",
       "      <td>2464</td>\n",
       "    </tr>\n",
       "    <tr>\n",
       "      <th>PHOTOGRAPHY</th>\n",
       "      <td>1328.9</td>\n",
       "      <td>213516650</td>\n",
       "      <td>134.21</td>\n",
       "      <td>675841</td>\n",
       "      <td>2146</td>\n",
       "    </tr>\n",
       "    <tr>\n",
       "      <th>PRODUCTIVITY</th>\n",
       "      <td>1478.2</td>\n",
       "      <td>114116975</td>\n",
       "      <td>250.93</td>\n",
       "      <td>855353</td>\n",
       "      <td>2836</td>\n",
       "    </tr>\n",
       "    <tr>\n",
       "      <th>SHOPPING</th>\n",
       "      <td>1013.8</td>\n",
       "      <td>115041222</td>\n",
       "      <td>5.48</td>\n",
       "      <td>524625</td>\n",
       "      <td>1766</td>\n",
       "    </tr>\n",
       "    <tr>\n",
       "      <th>SOCIAL</th>\n",
       "      <td>1102.2</td>\n",
       "      <td>621241422</td>\n",
       "      <td>15.97</td>\n",
       "      <td>595183</td>\n",
       "      <td>1972</td>\n",
       "    </tr>\n",
       "    <tr>\n",
       "      <th>SPORTS</th>\n",
       "      <td>1347.3</td>\n",
       "      <td>70830169</td>\n",
       "      <td>100.00</td>\n",
       "      <td>774756</td>\n",
       "      <td>2420</td>\n",
       "    </tr>\n",
       "    <tr>\n",
       "      <th>TOOLS</th>\n",
       "      <td>2970.8</td>\n",
       "      <td>273185044</td>\n",
       "      <td>267.25</td>\n",
       "      <td>1700483</td>\n",
       "      <td>5310</td>\n",
       "    </tr>\n",
       "    <tr>\n",
       "      <th>TRAVEL_AND_LOCAL</th>\n",
       "      <td>928.7</td>\n",
       "      <td>62617919</td>\n",
       "      <td>49.95</td>\n",
       "      <td>520545</td>\n",
       "      <td>1689</td>\n",
       "    </tr>\n",
       "    <tr>\n",
       "      <th>VIDEO_PLAYERS</th>\n",
       "      <td>650.2</td>\n",
       "      <td>110380188</td>\n",
       "      <td>10.46</td>\n",
       "      <td>353022</td>\n",
       "      <td>1188</td>\n",
       "    </tr>\n",
       "    <tr>\n",
       "      <th>WEATHER</th>\n",
       "      <td>318.3</td>\n",
       "      <td>14604735</td>\n",
       "      <td>32.42</td>\n",
       "      <td>165427</td>\n",
       "      <td>529</td>\n",
       "    </tr>\n",
       "  </tbody>\n",
       "</table>\n",
       "</div>"
      ],
      "text/plain": [
       "                     Rating     Reviews    Price  Release_year  launch_month\n",
       "Category                                                                    \n",
       "1.9                    19.0     3000000     0.00          2018             2\n",
       "ART_AND_DESIGN        270.2     1714440     5.97        131158           386\n",
       "AUTO_AND_VEHICLES     305.9     1163666    13.47        171513           552\n",
       "BEAUTY                179.7      396240     0.00        106940           322\n",
       "BOOKS_AND_REFERENCE   773.6    21959069   119.77        465926          1455\n",
       "BUSINESS             1248.8    13954552   185.27        927987          2859\n",
       "COMICS                241.0     3383276     0.00        121067           406\n",
       "COMMUNICATION        1364.0   815462260    83.14        780743          2537\n",
       "DATING                774.3     7291278    31.43        472187          1593\n",
       "EDUCATION             680.3    39595786    17.96        314730          1117\n",
       "ENTERTAINMENT         614.8    59178154     7.98        300667           964\n",
       "EVENTS                199.6      161018   109.99        129132           472\n",
       "FAMILY               7323.9   410226330  2434.78       3977995         12414\n",
       "FINANCE              1334.6    17550728  2900.83        738476          2262\n",
       "FOOD_AND_DRINK        454.2     8883330     8.48        256268           816\n",
       "GAME                 4702.1  1585422349   287.30       2307826          7506\n",
       "HEALTH_AND_FITNESS   1270.3    37893743    67.34        688014          2223\n",
       "HOUSE_AND_HOME        319.0     3976385     0.00        177544           584\n",
       "LIBRARIES_AND_DEMO    271.6     1037118     0.99        171448           405\n",
       "LIFESTYLE            1285.8    12882784  2360.87        770602          2403\n",
       "MAPS_AND_NAVIGATION   502.4    30659254    26.95        276407           918\n",
       "MEDICAL              1466.2     1585975  1439.96        934031          2927\n",
       "NEWS_AND_MAGAZINES    962.8    54400863     3.98        570992          1809\n",
       "PARENTING             215.0      958331     9.58        121069           368\n",
       "PERSONALIZATION      1361.5    89346140   153.96        790656          2464\n",
       "PHOTOGRAPHY          1328.9   213516650   134.21        675841          2146\n",
       "PRODUCTIVITY         1478.2   114116975   250.93        855353          2836\n",
       "SHOPPING             1013.8   115041222     5.48        524625          1766\n",
       "SOCIAL               1102.2   621241422    15.97        595183          1972\n",
       "SPORTS               1347.3    70830169   100.00        774756          2420\n",
       "TOOLS                2970.8   273185044   267.25       1700483          5310\n",
       "TRAVEL_AND_LOCAL      928.7    62617919    49.95        520545          1689\n",
       "VIDEO_PLAYERS         650.2   110380188    10.46        353022          1188\n",
       "WEATHER               318.3    14604735    32.42        165427           529"
      ]
     },
     "execution_count": 134,
     "metadata": {},
     "output_type": "execute_result"
    }
   ],
   "source": [
    "data.groupby('Category').sum()"
   ]
  },
  {
   "cell_type": "code",
   "execution_count": 138,
   "id": "8676a22e",
   "metadata": {},
   "outputs": [
    {
     "data": {
      "image/png": "[encoded data removed]",
      "text/plain": [
       "<Figure size 432x288 with 1 Axes>"
      ]
     },
     "metadata": {
      "needs_background": "light"
     },
     "output_type": "display_data"
    }
   ],
   "source": [
    "# Sum of user reviews\n",
    "category_group = data.groupby('Category')\n",
    "total_reviews = category_group.sum()['Reviews']\n",
    "\n",
    "keys = [pair for pair, df in category_group]\n",
    "plt.bar(keys, total_reviews)\n",
    "plt.xticks(keys, rotation='vertical', size=8)\n",
    "plt.show()"
   ]
  },
  {
   "cell_type": "code",
   "execution_count": 160,
   "id": "d6ccdb97",
   "metadata": {},
   "outputs": [
    {
     "data": {
      "image/png": "[encoded data removed]",
      "text/plain": [
       "<Figure size 432x288 with 2 Axes>"
      ]
     },
     "metadata": {
      "needs_background": "light"
     },
     "output_type": "display_data"
    }
   ],
   "source": [
    "%matplotlib inline\n",
    "ratings = data.groupby('Category').sum()['Rating']\n",
    "\n",
    "fig, ax1 = plt.subplots()\n",
    "\n",
    "ax2 = ax1.twinx()\n",
    "ax1.bar(keys, total_reviews, color='g')\n",
    "ax2.plot(keys, ratings, color='b')\n",
    "\n",
    "ax1.set_xlabel('Category Name')\n",
    "ax1.set_ylabel('Total Reviews', color='g')\n",
    "ax2.set_ylabel('Ratings', color='b')\n",
    "ax1.set_xticklabels(keys, rotation='vertical', size=8)\n",
    "\n",
    "fig.show()"
   ]
  },
  {
   "cell_type": "code",
   "execution_count": 142,
   "id": "f0f93ff3",
   "metadata": {},
   "outputs": [],
   "source": [
    "#Opinion: Based on result, Popular recommedation can be Games, Communication and Social application\n",
    "#and Top Picks recommendations can be Family, games and tools applications"
   ]
  },
  {
   "cell_type": "markdown",
   "id": "81e32911",
   "metadata": {},
   "source": [
    "# "
   ]
  }
 ],
 "metadata": {
  "kernelspec": {
   "display_name": "Python 3 (ipykernel)",
   "language": "python",
   "name": "python3"
  },
  "language_info": {
   "codemirror_mode": {
    "name": "ipython",
    "version": 3
   },
   "file_extension": ".py",
   "mimetype": "text/x-python",
   "name": "python",
   "nbconvert_exporter": "python",
   "pygments_lexer": "ipython3",
   "version": "3.9.7"
  }
 },
 "nbformat": 4,
 "nbformat_minor": 5
}
